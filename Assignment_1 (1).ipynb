{
  "nbformat": 4,
  "nbformat_minor": 0,
  "metadata": {
    "colab": {
      "provenance": []
    },
    "kernelspec": {
      "name": "python3",
      "display_name": "Python 3"
    },
    "language_info": {
      "name": "python"
    }
  },
  "cells": [
    {
      "cell_type": "markdown",
      "source": [
        "1.What is Python, and why is it popular?\n",
        "\n",
        "  - Python is a high-level, interpreted programming language known for its readability and versatility. It's popular because of its simple syntax, large community, extensive libraries, and wide applicability, including web development, data analysis, Al, and more."
      ],
      "metadata": {
        "id": "d2hwTEsouv8t"
      }
    },
    {
      "cell_type": "markdown",
      "source": [
        "2.What is an interpreter in python?\n",
        "\n",
        "An interpreter is a program that executes Python code line-by-line, allowing you to run scripts interactively. This makes it easier to debug and develop code quickly.\n"
      ],
      "metadata": {
        "id": "YBa1zkhru3uF"
      }
    },
    {
      "cell_type": "markdown",
      "source": [
        "3.What are pre-defined keywords in Python?\n",
        "\n",
        "Pre-defined keywords in Python are reserved words that have a specific meaning and purpose within the language. Examples include if, else, for, while, True, and False.\n"
      ],
      "metadata": {
        "id": "yBtLS43Ou9zu"
      }
    },
    {
      "cell_type": "markdown",
      "source": [
        "4.Can keywords be used as variable names?\n",
        "\n",
        "No, keywords cannot be used as variable names as they are reserved by Python for specific functionalities\n"
      ],
      "metadata": {
        "id": "fcsHcMEpwRMZ"
      }
    },
    {
      "cell_type": "markdown",
      "source": [
        "5.What is mutability in Python?\n",
        "\n",
        "Mutability refers to an object's ability to change its state or content after creation. For example, lists are mutable, while tuples are immutable.\n"
      ],
      "metadata": {
        "id": "BmeakXK-wVTy"
      }
    },
    {
      "cell_type": "markdown",
      "source": [
        "6.Why are lists mutable, but tuples are immutable?\n",
        "\n",
        "Lists are designed to be flexible, so they allow modification of elements. Tuples, on the other hand, are designed as fixed collections, making them faster and safer in scenarios where data should not change.\n"
      ],
      "metadata": {
        "id": "K50ITaFjwe1o"
      }
    },
    {
      "cell_type": "markdown",
      "source": [
        "7.What is the difference between “==” and “is” operators in Python?\n",
        "\n",
        "\"==\" checks if the values of two objects are equal, while \"is\" checks if two variables point to the sam memory location (i.e., if they are the same object)\n"
      ],
      "metadata": {
        "id": "QEAXjeLDwkLV"
      }
    },
    {
      "cell_type": "markdown",
      "source": [
        "8.What are logical operators in Python?\n",
        "\n",
        "Logical operators are used to combine multiple conditions and include and, or, and not.\n"
      ],
      "metadata": {
        "id": "X84kTPzzwnDS"
      }
    },
    {
      "cell_type": "markdown",
      "source": [
        "9.What is type casting in Python?\n",
        "\n",
        "Type casting is the conversion of one data type to another, such as converting an integer to a string or a float.\n"
      ],
      "metadata": {
        "id": "9Fm2xeqvwtAR"
      }
    },
    {
      "cell_type": "markdown",
      "source": [
        "10.What is the difference between implicit and explicit type casting ?\n",
        "\n",
        "Implicit casting is done automatically by Python, while explicit casting requires the use of functions like int (), float(), or str() to convert between types.\n"
      ],
      "metadata": {
        "id": "Ni05DsGMw2GQ"
      }
    },
    {
      "cell_type": "markdown",
      "source": [
        "11.What is the purpose of conditional statements in Python?\n",
        "\n",
        "Conditional statements, such as if, elif, and else, allow Python to execute certain blocks of code based or whether a condition is True or False.\n"
      ],
      "metadata": {
        "id": "QWR-frzIw69P"
      }
    },
    {
      "cell_type": "markdown",
      "source": [
        "12.How does the elif statement work?\n",
        "\n",
        "The elif statement provides additional conditions after an initial if. It is only executed if the previous if or elif condition was False.\n"
      ],
      "metadata": {
        "id": "faKqHFoQxBCR"
      }
    },
    {
      "cell_type": "markdown",
      "source": [
        "13.What is the difference between for and while loops?\n",
        "\n",
        "A for loop is typically used when you know the number of iterations in advance, while a while loop is used when the number of iterations depends on a condition.\n"
      ],
      "metadata": {
        "id": "mEeBokh1xLDD"
      }
    },
    {
      "cell_type": "markdown",
      "source": [
        "14.Describe a scenario where a while loop is more suitable than a for loop?\n",
        "\n",
        "A while loop is ideal when you want to continue looping until a specific condition is met, like waiting for user input or monitoring a process until it completes.\n"
      ],
      "metadata": {
        "id": "TWr2N6CExMHO"
      }
    },
    {
      "cell_type": "markdown",
      "source": [
        "# **Practical**\n",
        "\n",
        "\n",
        "\n"
      ],
      "metadata": {
        "id": "QPOHqtpVxRzq"
      }
    },
    {
      "cell_type": "code",
      "source": [
        "1 # Write a Python program to print \"Hello, World!\"\n"
      ],
      "metadata": {
        "id": "3V5ZpMagxigP"
      },
      "execution_count": null,
      "outputs": []
    },
    {
      "cell_type": "code",
      "source": [
        "print(\"Hello, World!\")"
      ],
      "metadata": {
        "colab": {
          "base_uri": "https://localhost:8080/"
        },
        "id": "uydEfj4tx9uV",
        "outputId": "4587508e-c404-4401-9408-9fb47b3e723d"
      },
      "execution_count": 2,
      "outputs": [
        {
          "output_type": "stream",
          "name": "stdout",
          "text": [
            "Hello, World!\n"
          ]
        }
      ]
    },
    {
      "cell_type": "code",
      "source": [
        "2 # write a python program that display your name and age\n",
        "\n",
        "\n",
        "name = \"Akshay Patil\"\n",
        "age = 27\n",
        "\n",
        "print(\"My name is\", name)\n",
        "print(\"I am\", age, \"years old.\")\n"
      ],
      "metadata": {
        "colab": {
          "base_uri": "https://localhost:8080/"
        },
        "id": "mb6asc7pyE7m",
        "outputId": "9f2777a4-0567-48ff-c30e-0550b3f977bb"
      },
      "execution_count": 3,
      "outputs": [
        {
          "output_type": "stream",
          "name": "stdout",
          "text": [
            "My name is Akshay Patil\n",
            "I am 27 years old.\n"
          ]
        }
      ]
    },
    {
      "cell_type": "code",
      "source": [
        "3 #write a code to print all the pre-defined keywords in Python using keyword library\n",
        "\n",
        "\n",
        "print(keyword.kwlist)"
      ],
      "metadata": {
        "colab": {
          "base_uri": "https://localhost:8080/"
        },
        "id": "p2lJBKVEyKBi",
        "outputId": "e209c7b3-ccab-44f3-e559-cb69ea6bf70d"
      },
      "execution_count": 8,
      "outputs": [
        {
          "output_type": "stream",
          "name": "stdout",
          "text": [
            "['False', 'None', 'True', 'and', 'as', 'assert', 'async', 'await', 'break', 'class', 'continue', 'def', 'del', 'elif', 'else', 'except', 'finally', 'for', 'from', 'global', 'if', 'import', 'in', 'is', 'lambda', 'nonlocal', 'not', 'or', 'pass', 'raise', 'return', 'try', 'while', 'with', 'yield']\n"
          ]
        }
      ]
    },
    {
      "cell_type": "code",
      "source": [
        "4 #Write a program that checks if a given word is a python keyword\n",
        "\n",
        "\n",
        "import keyword\n",
        "\n",
        "def is_python_keyword(word):\n",
        "  \"\"\"Checks if a given word is a Python keyword.\"\"\"\n",
        "  return keyword.iskeyword(word)\n",
        "\n",
        "# Example usage:\n",
        "word_to_check = \"for\"\n",
        "if is_python_keyword(word_to_check):\n",
        "  print(f\"'{word_to_check}' is a Python keyword.\")\n",
        "else:\n",
        "  print(f\"'{word_to_check}' is not a Python keyword.\")\n",
        "\n",
        "word_to_check = \"my_variable\"\n",
        "if is_python_keyword(word_to_check):\n",
        "  print(f\"'{word_to_check}' is a Python keyword.\")\n",
        "else:\n",
        "  print(f\"'{word_to_check}' is not a Python keyword.\")"
      ],
      "metadata": {
        "colab": {
          "base_uri": "https://localhost:8080/"
        },
        "id": "KMbkBadfydoJ",
        "outputId": "f0ab2ef5-51b1-494b-a60c-1f84e096d2b3"
      },
      "execution_count": 9,
      "outputs": [
        {
          "output_type": "stream",
          "name": "stdout",
          "text": [
            "'for' is a Python keyword.\n",
            "'my_variable' is not a Python keyword.\n"
          ]
        }
      ]
    },
    {
      "cell_type": "code",
      "source": [
        "5 #Create a list and tuple in python, and demonstrate how attempting to change an element work differently for each\n",
        "\n",
        "my_list = [1, 2, 3, 4]\n",
        "print(\"Original list:\", my_list)\n",
        "\n",
        "my_list[0] = 10\n",
        "print(\"List after changing an element:\", my_list)\n",
        "\n",
        "print(\"-\" * 20)\n",
        "my_tuple = (1, 2, 3, 4)\n",
        "print(\"Original tuple:\", my_tuple)\n",
        "try:\n",
        "  my_tuple[0] = 10\n",
        "except TypeError as e:\n",
        "  print(\"Error when attempting to change an element in the tuple:\", e)\n"
      ],
      "metadata": {
        "colab": {
          "base_uri": "https://localhost:8080/"
        },
        "id": "R3kG-eDJy_RZ",
        "outputId": "defca04a-2728-4e00-8679-ce2ed2c8df42"
      },
      "execution_count": 10,
      "outputs": [
        {
          "output_type": "stream",
          "name": "stdout",
          "text": [
            "Original list: [1, 2, 3, 4]\n",
            "List after changing an element: [10, 2, 3, 4]\n",
            "--------------------\n",
            "Original tuple: (1, 2, 3, 4)\n",
            "Error when attempting to change an element in the tuple: 'tuple' object does not support item assignment\n"
          ]
        }
      ]
    },
    {
      "cell_type": "code",
      "source": [
        "6 # Write a function to demonstrate the behavior of mutable and immutable arguments.\n",
        "def modify_list(my_list):\n",
        "  \"\"\"Demonstrates modifying a mutable argument.\"\"\"\n",
        "  my_list.append(5)\n",
        "  print(\"Inside function (mutable):\", my_list)\n",
        "\n",
        "def modify_integer(my_integer):\n",
        "  \"\"\"Demonstrates attempting to modify an immutable argument.\"\"\"\n",
        "  my_integer = my_integer + 1\n",
        "  print(\"Inside function (immutable):\", my_integer)\n",
        "\n",
        "my_list = [1, 2, 3, 4]\n",
        "print(\"Outside function before (mutable):\", my_list)\n",
        "modify_list(my_list)\n",
        "print(\"Outside function after (mutable):\", my_list)\n",
        "\n",
        "print(\"-\" * 20)\n",
        "my_integer = 10\n",
        "print(\"Outside function before (immutable):\", my_integer)\n",
        "modify_integer(my_integer)\n",
        "print(\"Outside function after (immutable):\", my_integer)\n"
      ],
      "metadata": {
        "colab": {
          "base_uri": "https://localhost:8080/"
        },
        "id": "0Ze1ttZzzZdr",
        "outputId": "f25391fc-9470-4fb2-b398-d117a849d2ae"
      },
      "execution_count": 12,
      "outputs": [
        {
          "output_type": "stream",
          "name": "stdout",
          "text": [
            "Outside function before (mutable): [1, 2, 3, 4]\n",
            "Inside function (mutable): [1, 2, 3, 4, 5]\n",
            "Outside function after (mutable): [1, 2, 3, 4, 5]\n",
            "--------------------\n",
            "Outside function before (immutable): 10\n",
            "Inside function (immutable): 11\n",
            "Outside function after (immutable): 10\n"
          ]
        }
      ]
    },
    {
      "cell_type": "code",
      "source": [
        "7 # Write a program that performs basic arithmetic operations on two user-input numbers.\n",
        "\n",
        "num1 = float(input(\"Enter the first number: \"))\n",
        "\n",
        "num2 = float(input(\"Enter the second number: \"))\n",
        "addition = num1 + num2\n",
        "subtraction = num1 - num2\n",
        "multiplication = num1 * num2\n",
        "division = num1 / num2\n",
        "\n",
        "print(\"---\")\n",
        "print(f\"The sum of {num1} and {num2} is: {addition}\")\n",
        "print(f\"The difference between {num1} and {num2} is: {subtraction}\")\n",
        "print(f\"The product of {num1} and {num2} is: {multiplication}\")\n",
        "print(f\"The division of {num1} by {num2} is: {division}\")\n"
      ],
      "metadata": {
        "id": "oDXYFkD9z6Nw"
      },
      "execution_count": null,
      "outputs": []
    },
    {
      "cell_type": "code",
      "source": [
        "8 # Write a program to demonstrate the use of logical operators.\n",
        "x = 5\n",
        "y = 10\n",
        "z = 5\n",
        "\n",
        "print(\"Let's analyze some conditions using logical operators:\")\n",
        "print(f\"Given variables: x = {x}, y = {y}, z = {z}\")\n",
        "\n",
        "print(\"\\n--- The 'and' operator ---\")\n",
        "print(f\"Is x < y and x == z? {x < y and x == z}\")\n",
        "print(\"Explanation: The first part (x < y) is True, and the second part (x == z) is True. So, the result is True.\")\n",
        "\n",
        "print(\"\\n--- The 'or' operator ---\")\n",
        "print(f\"Is x > y or x == z? {x > y or x == z}\")\n",
        "print(\"Explanation: The first part (x > y) is False, but the second part (x == z) is True. So, the result is True.\")\n",
        "\n",
        "print(\"\\n--- The 'not' operator ---\")\n",
        "print(f\"Is it not the case that x == y? {not x == y}\")\n",
        "print(\"Explanation: The expression (x == y) is False. The 'not' operator reverses this, making the final result True.\")\n"
      ],
      "metadata": {
        "id": "q0rwsecY1im0"
      },
      "execution_count": null,
      "outputs": []
    },
    {
      "cell_type": "code",
      "source": [
        "9 # Write a Python program to convert user input from string to integer, float, and boolean types\n",
        "print(\"--- Converting to Integer ---\")\n",
        "int_input = input(\"Enter a whole number: \")\n",
        "try:\n",
        "    int_value = int(int_input)\n",
        "    print(f\"Original string: '{int_input}', Converted integer: {int_value}, Type: {type(int_value)}\")\n",
        "except ValueError:\n",
        "    print(f\"Error: '{int_input}' cannot be converted to an integer.\")\n",
        "\n",
        "print(\"\\n\" + \"=\"*40 + \"\\n\")\n",
        "\n",
        "print(\"--- Converting to Float ---\")\n",
        "float_input = input(\"Enter a number (can be a decimal): \")\n",
        "try:\n",
        "    float_value = float(float_input)\n",
        "    print(f\"Original string: '{float_input}', Converted float: {float_value}, Type: {type(float_value)}\")\n",
        "except ValueError:\n",
        "    print(f\"Error: '{float_input}' cannot be converted to a float.\")\n",
        "\n",
        "print(\"\\n\" + \"=\"*40 + \"\\n\")\n",
        "print(\"--- Converting to Boolean ---\")\n",
        "bool_input = input(\"Enter 'True' or 'False': \")\n",
        "if bool_input.lower() == 'true':\n",
        "    bool_value = True\n",
        "    print(f\"Original string: '{bool_input}', Converted boolean: {bool_value}, Type: {type(bool_value)}\")\n",
        "elif bool_input.lower() == 'false':\n",
        "    bool_value = False\n",
        "    print(f\"Original string: '{bool_input}', Converted boolean: {bool_value}, Type: {type(bool_value)}\")\n",
        "else:\n",
        "    print(f\"Error: '{bool_input}' cannot be reliably converted to a boolean.\")\n",
        "\n",
        "print(\"\\n\" + \"=\"*40 + \"\\n\")\n",
        "print(\"Bonus: A note on bool() conversion:\")\n",
        "print(f\"bool('True') is {bool('True')}\")\n",
        "print(f\"bool('False') is {bool('False')}\")\n",
        "print(f\"bool('') is {bool('')}\")\n"
      ],
      "metadata": {
        "id": "MCjqSx1X1tS9"
      },
      "execution_count": null,
      "outputs": []
    },
    {
      "cell_type": "code",
      "source": [
        "10 # Write code to demonstrate type casting with list elements.\n",
        "string_numbers = [\"1\", \"2\", \"3\", \"4\", \"5\"]\n",
        "print(\"Original list:\", string_numbers)\n",
        "print(\"Types before casting:\", [type(x) for x in string_numbers])\n",
        "int_numbers = [int(num) for num in string_numbers]\n",
        "print(\"\\nList after type casting to int:\", int_numbers)\n",
        "print(\"Types after casting:\", [type(x) for x in int_numbers])\n",
        "float_numbers = [float(num) for num in int_numbers]\n",
        "print(\"\\nList after casting to float:\", float_numbers)\n",
        "print(\"Types after casting:\", [type(x) for x in float_numbers])\n",
        "\n",
        "#output\n",
        "Original list: ['1', '2', '3', '4', '5']\n",
        "Types before casting: [, , , , ]\n",
        "\n",
        "List after type casting to int: [1, 2, 3, 4, 5]\n",
        "Types after casting: [, , , , ]\n",
        "\n",
        "List after casting to float: [1.0, 2.0, 3.0, 4.0, 5.0]\n",
        "Types after casting: [, , , , ]\n",
        "\n"
      ],
      "metadata": {
        "id": "O3QNmJb618Yj"
      },
      "execution_count": null,
      "outputs": []
    },
    {
      "cell_type": "code",
      "source": [
        "11 # Write a program that checks if a number is positive, negative, or zero\n",
        "if num > 0:\n",
        "    print(\"The number is positive.\")\n",
        "elif num < 0:\n",
        "    print(\"The number is negative.\")\n",
        "else:\n",
        "    print(\"The number is zero.\")\n",
        "\n"
      ],
      "metadata": {
        "id": "aT8M2xrI2hF4"
      },
      "execution_count": null,
      "outputs": []
    },
    {
      "cell_type": "code",
      "source": [
        "# Write a for loop to print numbers from 1 to 10.\n",
        "for i in range(1, 11):\n",
        "  print(i)\n"
      ],
      "metadata": {
        "id": "JNv6cIN-2oYw"
      },
      "execution_count": null,
      "outputs": []
    },
    {
      "cell_type": "code",
      "source": [
        "# Write a Python program to find the sum of all even numbers between 1 and 50.\n",
        "sum_of_evens = 0\n",
        "\n",
        "# Iterate through numbers from 1 to 50\n",
        "for number in range(1, 51):\n",
        "  # Check if the number is even\n",
        "  if number % 2 == 0:\n",
        "    # Add the even number to the sum\n",
        "    sum_of_evens += number\n",
        "\n",
        "# Print the final sum\n",
        "print(f\"The sum of all even numbers between 1 and 50 is: {sum_of_evens}\")\n"
      ],
      "metadata": {
        "id": "NmqthLbh2yL3"
      },
      "execution_count": null,
      "outputs": []
    },
    {
      "cell_type": "code",
      "source": [
        "# Write a program to reverse a string using a while loop.\n",
        "\n",
        "input_string = \"Hello\"\n",
        "reversed_string = \"\"\n",
        "index = len(input_string) -\n",
        "\n",
        "while index >= 0:\n",
        "  reversed_string += input_string[index]\n",
        "  index -= 1\n",
        "\n",
        "print(f\"Original string: {input_string}\")\n",
        "print(f\"Reversed string: {reversed_string}\")\n"
      ],
      "metadata": {
        "id": "Qq8MqcS_2_T6"
      },
      "execution_count": null,
      "outputs": []
    },
    {
      "cell_type": "code",
      "source": [
        "15 #  Write a Python program to calculate the factorial of a number provided by the user using a while loop.\n",
        "# Program to calculate factorial using while loop\n",
        "\n",
        "# Take input from the user\n",
        "num = int(input(\"Enter a number: \"))\n",
        "\n",
        "# Initialize variables\n",
        "factorial = 1\n",
        "i = 1\n",
        "\n",
        "# Calculate factorial using while loop\n",
        "while i <= num:\n",
        "    factorial *= i\n",
        "    i += 1\n",
        "\n",
        "# Display result\n",
        "print(f\"Factorial of {num} is {factorial}\")"
      ],
      "metadata": {
        "id": "idc99v7l3iAF"
      },
      "execution_count": null,
      "outputs": []
    },
    {
      "cell_type": "code",
      "source": [],
      "metadata": {
        "id": "uEXonItg3lui"
      },
      "execution_count": null,
      "outputs": []
    }
  ]
}